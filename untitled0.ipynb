{
  "nbformat": 4,
  "nbformat_minor": 0,
  "metadata": {
    "colab": {
      "provenance": [],
      "authorship_tag": "ABX9TyNevVO/6OMKjfsDD7sHOn2a",
      "include_colab_link": true
    },
    "kernelspec": {
      "name": "python3",
      "display_name": "Python 3"
    },
    "language_info": {
      "name": "python"
    }
  },
  "cells": [
    {
      "cell_type": "markdown",
      "metadata": {
        "id": "view-in-github",
        "colab_type": "text"
      },
      "source": [
        "<a href=\"https://colab.research.google.com/github/majuneves15/python/blob/main/untitled0.ipynb\" target=\"_parent\"><img src=\"https://colab.research.google.com/assets/colab-badge.svg\" alt=\"Open In Colab\"/></a>"
      ]
    },
    {
      "cell_type": "markdown",
      "source": [
        "# **aula** 1 🇬 ⏸ ✔"
      ],
      "metadata": {
        "id": "-v_pjF5C1Hu9"
      }
    },
    {
      "cell_type": "markdown",
      "source": [],
      "metadata": {
        "id": "94fcMaBv1C_2"
      }
    },
    {
      "cell_type": "code",
      "execution_count": null,
      "metadata": {
        "colab": {
          "base_uri": "https://localhost:8080/"
        },
        "id": "zyXkb9b4zJzG",
        "outputId": "79320198-32a3-4876-9f49-7d5b6737d59d"
      },
      "outputs": [
        {
          "output_type": "stream",
          "name": "stdout",
          "text": [
            "IV  competição de programação dá Start\n"
          ]
        }
      ],
      "source": [
        "ano = \"IV\"\n",
        "print( ano, \" competição de programação dá Start\")"
      ]
    },
    {
      "cell_type": "markdown",
      "source": [
        "# **aula** 2 🩸 🧿 🦩"
      ],
      "metadata": {
        "id": "LrpD-a_U2RGl"
      }
    },
    {
      "cell_type": "code",
      "source": [
        "livro_ficcao = 8\n",
        "livro_n_ficcao = 10\n",
        "livro_infantil = 6\n",
        "pontos_rodrigo = livro_ficcao + livro_n_ficcao + livro_infantil\n",
        "pontos_ana = 2 * livro_ficcao + 5 * livro_infantil\n",
        "pontos_totais = pontos_rodrigo + pontos_ana\n",
        "print(f\"Os pontos totais do Rodrigo são {pontos_rodrigo}\")\n",
        "print(f\"Os pontos totais da ana são {pontos_ana}\")\n",
        "print(f\"Os pontos totais de ana e Rodrigo são {pontos_totais}\")\n",
        "\n",
        "\n"
      ],
      "metadata": {
        "colab": {
          "base_uri": "https://localhost:8080/"
        },
        "id": "RtiwlD-p2W1C",
        "outputId": "5cf45856-bd65-43ea-fe14-f22772632b1f"
      },
      "execution_count": null,
      "outputs": [
        {
          "output_type": "stream",
          "name": "stdout",
          "text": [
            "Os pontos totais do Rodrigo são 24\n",
            "Os pontos totais da ana são 46\n",
            "Os pontos totais de ana e Rodrigo são 70\n"
          ]
        }
      ]
    },
    {
      "cell_type": "markdown",
      "source": [
        "#**aula 3** 🩹 ⏰ 🇲"
      ],
      "metadata": {
        "id": "XdsR_z-l6tbQ"
      }
    },
    {
      "cell_type": "code",
      "source": [
        "total_de_figurinhas = int(input(\"Digite o total de figurinhas: \"))\n",
        "numero_de_amigos = int(input(\"Digite o número de amigos: \"))\n",
        "figurinhas_amigo = total_de_figurinhas // (numero_de_amigos + 2)\n",
        "figurinhas_joao = 2 * figurinhas_amigo\n",
        "figurinhas_extras = int(input(\"Digite o número de figuras: \"))\n",
        "figurinha_extra = figurinha_extra // (numero_de_amigos + 2)\n",
        "figurinhas_joao2 = figurinhas_extras\n",
        "\n",
        "print(f\"João recebeu {figurinhas_joao} figurinhas\")"
      ],
      "metadata": {
        "id": "8x7L0nOM6vGP"
      },
      "execution_count": null,
      "outputs": []
    },
    {
      "cell_type": "markdown",
      "source": [
        "# **aula 4** ♒ 🪃 ☔"
      ],
      "metadata": {
        "id": "q0mCYp5k5O5P"
      }
    },
    {
      "cell_type": "code",
      "source": [
        "p = int (input(\"digite a posição da porta P (0 ou 1)\"))\n",
        "R = int (input(\"digite a posição da porta R (0 ou 1)\"))\n",
        "if P == 0:\n",
        "    print(\"C\")\n",
        "elif R == 1 :\n",
        "    print(\"A\")\n",
        "else:\n",
        "    print(\"B\")"
      ],
      "metadata": {
        "id": "A7xyyG_g52Ny"
      },
      "execution_count": null,
      "outputs": []
    },
    {
      "cell_type": "markdown",
      "source": [
        "# **aula 5 -Cálculo de IMC** 🔟 🦘 🥵"
      ],
      "metadata": {
        "id": "WMnKOKQR7euZ"
      }
    },
    {
      "cell_type": "code",
      "source": [
        "peso = float(input(\"Digite seu peso (em kg): \"))\n",
        "altura = float(input(\"Digite sua altura (em metros): \"))\n",
        "imc = peso / (altura ** 2)\n",
        "print(f\"\\nSeu IMC é: {imc:.2f}\")\n",
        "if imc < 18.5:\n",
        "    print(\"Você está abaixo do peso.\")\n",
        "elif 18.5 <= imc < 25:\n",
        "    print(\"Você está no peso ideal.\")\n",
        "elif 25 <= imc < 30:\n",
        "    print(\"Você está com sobrepeso.\")\n",
        "else:\n",
        "    print(\"Você está acima do peso.\")"
      ],
      "metadata": {
        "colab": {
          "base_uri": "https://localhost:8080/"
        },
        "id": "wlSJdlcZ7syp",
        "outputId": "d651fece-550e-45a0-8c72-9ece0aef0669"
      },
      "execution_count": null,
      "outputs": [
        {
          "output_type": "stream",
          "name": "stdout",
          "text": [
            "Digite seu peso (em kg): 58\n",
            "Digite sua altura (em metros): 1.60\n",
            "\n",
            "Seu IMC é: 22.66\n",
            "Você está no peso ideal.\n"
          ]
        }
      ]
    },
    {
      "cell_type": "markdown",
      "source": [
        "##**aula 6 - Tabuada** ➿ 🌦 🇪"
      ],
      "metadata": {
        "id": "Oghmdaml_TWp"
      }
    },
    {
      "cell_type": "code",
      "source": [
        "def tabuada(numero):\n",
        "    for contador in range(1, 11):  # Gera números de 1 a 10\n",
        "        print(f\"{numero} x {contador} = {numero * contador}\")\n",
        "numero = int(input(\"Digite um número para ver sua tabuada: \"))\n",
        "tabuada(numero)"
      ],
      "metadata": {
        "colab": {
          "base_uri": "https://localhost:8080/"
        },
        "id": "yjLGprxDATV0",
        "outputId": "8394ba0f-0549-4fe5-919d-8ad368af476f"
      },
      "execution_count": null,
      "outputs": [
        {
          "output_type": "stream",
          "name": "stdout",
          "text": [
            "Digite um número para ver sua tabuada: 11\n",
            "11 x 1 = 11\n",
            "11 x 2 = 22\n",
            "11 x 3 = 33\n",
            "11 x 4 = 44\n",
            "11 x 5 = 55\n",
            "11 x 6 = 66\n",
            "11 x 7 = 77\n",
            "11 x 8 = 88\n",
            "11 x 9 = 99\n",
            "11 x 10 = 110\n"
          ]
        }
      ]
    },
    {
      "cell_type": "markdown",
      "source": [
        "#**aula 7-Idade** ✋ 🥇 🦫"
      ],
      "metadata": {
        "id": "D5IObDKkB1m7"
      }
    },
    {
      "cell_type": "code",
      "source": [
        "def calcula_idade_maior(idade_monica, idade_filho1, idade_filho2):\n",
        "  idade_filho3 = idade_monica - idade_filho1 - idade_filho2\n",
        "  idade_maxima = max(idade_filho1, idade_filho2, idade_filho3)\n",
        "  return idade_filho3, idade_maxima\n",
        "resultado = calcula_idade_maior(68, 12, 30)\n",
        "print(resultado)"
      ],
      "metadata": {
        "colab": {
          "base_uri": "https://localhost:8080/"
        },
        "id": "ciF02zq4CKns",
        "outputId": "7363e1e2-b43a-47f5-d168-0fc15062fe67"
      },
      "execution_count": null,
      "outputs": [
        {
          "output_type": "stream",
          "name": "stdout",
          "text": [
            "(26, 30)\n"
          ]
        }
      ]
    },
    {
      "cell_type": "markdown",
      "source": [
        "#**aula8** ❤ 08 ♌\n",
        "\n"
      ],
      "metadata": {
        "id": "M34owYinDg4f"
      }
    },
    {
      "cell_type": "code",
      "source": [
        "print(\"sou seu assistente virtual \\n\")\n",
        "nome = input (\"digite seu nome\")\n",
        "print(f\"Olá{nome}, em que posso ajudar?\")\n",
        "resposta = input(\"Qual assunto que você deseja tratar? Matemática, Python ou Javascript\").lower()\n",
        "if resposta==\"python\":\n",
        "  print(\"Ótimo, vamos falar sobre Python!\")\n",
        "  print(\" \")\n",
        "elif resposta==\"matemática\":\n",
        "  print(\"Perfeito, vamos resolver umas questões de matemática!\")\n",
        "elif resposta==\"javascript\":\n",
        "  print(\"Que legal, vamos conversar sobre javascript!\")\n",
        "else:\n",
        "  print(\"Hum, não sei falar sobre esse assunto \")"
      ],
      "metadata": {
        "colab": {
          "base_uri": "https://localhost:8080/"
        },
        "id": "_yk7T4LYENyQ",
        "outputId": "806ecf83-b8d0-4eba-f9bc-f99410966a27"
      },
      "execution_count": null,
      "outputs": [
        {
          "output_type": "stream",
          "name": "stdout",
          "text": [
            "sou seu assistente virtual \n",
            "\n"
          ]
        }
      ]
    }
  ]
}