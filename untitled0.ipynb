{
  "nbformat": 4,
  "nbformat_minor": 0,
  "metadata": {
    "colab": {
      "provenance": [],
      "authorship_tag": "ABX9TyPTN8+3EE2pMM5hvGgZOJLx",
      "include_colab_link": true
    },
    "kernelspec": {
      "name": "python3",
      "display_name": "Python 3"
    },
    "language_info": {
      "name": "python"
    }
  },
  "cells": [
    {
      "cell_type": "markdown",
      "metadata": {
        "id": "view-in-github",
        "colab_type": "text"
      },
      "source": [
        "<a href=\"https://colab.research.google.com/github/majuneves15/python/blob/main/untitled0.ipynb\" target=\"_parent\"><img src=\"https://colab.research.google.com/assets/colab-badge.svg\" alt=\"Open In Colab\"/></a>"
      ]
    },
    {
      "cell_type": "markdown",
      "source": [
        "# **aula** 1 🇬 ⏸ ✔"
      ],
      "metadata": {
        "id": "-v_pjF5C1Hu9"
      }
    },
    {
      "cell_type": "markdown",
      "source": [],
      "metadata": {
        "id": "94fcMaBv1C_2"
      }
    },
    {
      "cell_type": "code",
      "execution_count": null,
      "metadata": {
        "colab": {
          "base_uri": "https://localhost:8080/"
        },
        "id": "zyXkb9b4zJzG",
        "outputId": "79320198-32a3-4876-9f49-7d5b6737d59d"
      },
      "outputs": [
        {
          "output_type": "stream",
          "name": "stdout",
          "text": [
            "IV  competição de programação dá Start\n"
          ]
        }
      ],
      "source": [
        "ano = \"IV\"\n",
        "print( ano, \" competição de programação dá Start\")"
      ]
    },
    {
      "cell_type": "markdown",
      "source": [
        "# **aula** 2 🩸 🧿 🦩"
      ],
      "metadata": {
        "id": "LrpD-a_U2RGl"
      }
    },
    {
      "cell_type": "code",
      "source": [
        "livro_ficcao = 8\n",
        "livro_n_ficcao = 10\n",
        "livro_infantil = 6\n",
        "pontos_rodrigo = livro_ficcao + livro_n_ficcao + livro_infantil\n",
        "pontos_ana = 2 * livro_ficcao + 5 * livro_infantil\n",
        "pontos_totais = pontos_rodrigo + pontos_ana\n",
        "print(f\"Os pontos totais do Rodrigo são {pontos_rodrigo}\")\n",
        "print(f\"Os pontos totais da ana são {pontos_ana}\")\n",
        "print(f\"Os pontos totais de ana e Rodrigo são {pontos_totais}\")\n",
        "\n",
        "\n"
      ],
      "metadata": {
        "colab": {
          "base_uri": "https://localhost:8080/"
        },
        "id": "RtiwlD-p2W1C",
        "outputId": "5cf45856-bd65-43ea-fe14-f22772632b1f"
      },
      "execution_count": null,
      "outputs": [
        {
          "output_type": "stream",
          "name": "stdout",
          "text": [
            "Os pontos totais do Rodrigo são 24\n",
            "Os pontos totais da ana são 46\n",
            "Os pontos totais de ana e Rodrigo são 70\n"
          ]
        }
      ]
    },
    {
      "cell_type": "markdown",
      "source": [
        "#**aula 3** 🩹 ⏰ 🇲"
      ],
      "metadata": {
        "id": "XdsR_z-l6tbQ"
      }
    },
    {
      "cell_type": "code",
      "source": [
        "total_de_figurinhas = int(input(\"Digite o total de figurinhas: \"))\n",
        "numero_de_amigos = int(input(\"Digite o número de amigos: \"))\n",
        "figurinhas_amigo = total_de_figurinhas // (numero_de_amigos + 2)\n",
        "figurinhas_joao = 2 * figurinhas_amigo\n",
        "figurinhas_extras = int(input(\"Digite o número de figuras: \"))\n",
        "figurinha_extra = figurinha_extra // (numero_de_amigos + 2)\n",
        "figurinhas_joao2 = figurinhas_extras\n",
        "\n",
        "print(f\"João recebeu {figurinhas_joao} figurinhas\")"
      ],
      "metadata": {
        "id": "8x7L0nOM6vGP"
      },
      "execution_count": null,
      "outputs": []
    },
    {
      "cell_type": "markdown",
      "source": [
        "# **aula 4** ♒ 🪃 ☔"
      ],
      "metadata": {
        "id": "q0mCYp5k5O5P"
      }
    },
    {
      "cell_type": "code",
      "source": [
        "p = int (input(\"digite a posição da porta P (0 ou 1)\"))\n",
        "R = int (input(\"digite a posição da porta R (0 ou 1)\"))\n",
        "if P == 0:\n",
        "    print(\"C\")\n",
        "elif R == 1 :\n",
        "    print(\"A\")\n",
        "else:\n",
        "    print(\"B\")"
      ],
      "metadata": {
        "id": "A7xyyG_g52Ny"
      },
      "execution_count": null,
      "outputs": []
    },
    {
      "cell_type": "markdown",
      "source": [
        "# aula **5 -Cálculo de IMC** 🔟 🦘 🥵"
      ],
      "metadata": {
        "id": "WMnKOKQR7euZ"
      }
    },
    {
      "cell_type": "code",
      "source": [
        "peso = float(input(\"Digite seu peso (em kg): \"))\n",
        "altura = float(input(\"Digite sua altura (em metros): \"))"
      ],
      "metadata": {
        "id": "wlSJdlcZ7syp"
      },
      "execution_count": null,
      "outputs": []
    }
  ]
}